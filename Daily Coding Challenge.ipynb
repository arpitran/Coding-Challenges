{
 "cells": [
  {
   "cell_type": "markdown",
   "metadata": {},
   "source": [
    "#### Daily Coding Challenge #1 $O(N^2)$: \n",
    "***\n",
    "#### Given a list of numbers and a number k, return whether any two numbers from the list add up to k.\n",
    "***\n"
   ]
  },
  {
   "cell_type": "code",
   "execution_count": 51,
   "metadata": {},
   "outputs": [
    {
     "data": {
      "text/plain": [
       "True"
      ]
     },
     "execution_count": 51,
     "metadata": {},
     "output_type": "execute_result"
    }
   ],
   "source": [
    "lst=[10,15,3,7]\n",
    "k= 17\n",
    "def two_sum(lst,k):\n",
    "    for i in range(len(lst)):\n",
    "        for j in range(len(lst)):\n",
    "            if i!=j and lst[i]+lst[j]==k:\n",
    "                return True\n",
    "    return False\n",
    "        \n",
    "two_sum(lst,k)"
   ]
  },
  {
   "cell_type": "markdown",
   "metadata": {},
   "source": [
    "This function would take $O(N^2)$\n",
    "```python\n",
    "def two_sum(lst,k):\n",
    "    for i in range(len(lst)):\n",
    "        for j in range(len(lst)):\n",
    "            if i!=j and lst[i]+lst[j]==k:\n",
    "                return True\n",
    "    return False\n",
    "```"
   ]
  },
  {
   "cell_type": "markdown",
   "metadata": {},
   "source": [
    "#### Another way is to use a set to remember the numbers we've seen so far. Then for a given number, we can check if there is another number that, if added, would sum to k. This would be $O(N)$ since lookups of sets are O(1) each."
   ]
  },
  {
   "cell_type": "code",
   "execution_count": 52,
   "metadata": {},
   "outputs": [
    {
     "data": {
      "text/plain": [
       "True"
      ]
     },
     "execution_count": 52,
     "metadata": {},
     "output_type": "execute_result"
    }
   ],
   "source": [
    "def two_sum2(lst,k):\n",
    "    seen= set()\n",
    "    for num in lst:\n",
    "        if k-num in seen:\n",
    "            return True\n",
    "        seen.add(num)\n",
    "    return False\n",
    "\n",
    "two_sum2(lst,k)"
   ]
  },
  {
   "cell_type": "markdown",
   "metadata": {},
   "source": [
    "#### Yet another solution involves sorting the list. We can then iterate through the list and run a binary search on K-lst[i]. Since we run a binary search on N elements, this would take O(NlogN) with O(1) space."
   ]
  },
  {
   "cell_type": "code",
   "execution_count": 53,
   "metadata": {},
   "outputs": [],
   "source": [
    "from bisect import bisect_left\n",
    "\n",
    "def two_sum2(lst,k):\n",
    "    lst.sort()\n",
    "    for i in range(len(lst)):\n",
    "        target= k-lst[i]\n",
    "        j=binary_search(lst,target)\n",
    "        if j==-1:\n",
    "            continue\n",
    "        elif j!=i:\n",
    "            return True\n",
    "        elif j+1<len(lst) and lst[j+1]==target:\n",
    "            return True\n",
    "    return False"
   ]
  },
  {
   "cell_type": "code",
   "execution_count": 54,
   "metadata": {},
   "outputs": [],
   "source": [
    "def binary_search(lst,target):\n",
    "    lo=0\n",
    "    hi=len(lst)\n",
    "    ind=bisect_left(lst,target,lo,hi)\n",
    "    \n",
    "    if 0<=ind<hi and lst[ind]==target:\n",
    "        return ind\n",
    "    return -1"
   ]
  },
  {
   "cell_type": "code",
   "execution_count": 55,
   "metadata": {},
   "outputs": [
    {
     "data": {
      "text/plain": [
       "True"
      ]
     },
     "execution_count": 55,
     "metadata": {},
     "output_type": "execute_result"
    }
   ],
   "source": [
    "two_sum2(lst,k)"
   ]
  },
  {
   "cell_type": "code",
   "execution_count": null,
   "metadata": {
    "collapsed": true
   },
   "outputs": [],
   "source": []
  },
  {
   "cell_type": "code",
   "execution_count": null,
   "metadata": {
    "collapsed": true
   },
   "outputs": [],
   "source": []
  }
 ],
 "metadata": {
  "kernelspec": {
   "display_name": "Python 3",
   "language": "python",
   "name": "python3"
  },
  "language_info": {
   "codemirror_mode": {
    "name": "ipython",
    "version": 3
   },
   "file_extension": ".py",
   "mimetype": "text/x-python",
   "name": "python",
   "nbconvert_exporter": "python",
   "pygments_lexer": "ipython3",
   "version": "3.6.1"
  }
 },
 "nbformat": 4,
 "nbformat_minor": 2
}
